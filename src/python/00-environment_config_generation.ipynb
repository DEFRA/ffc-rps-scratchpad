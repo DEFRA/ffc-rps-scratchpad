{
 "cells": [
  {
   "cell_type": "markdown",
   "metadata": {},
   "source": [
    "# Configuration file stuff\n",
    "\n",
    "This repository has many proofs of concept and is very exploratory.\n",
    "\n",
    "We're using a variety of tools and many of them depend on openai. Everyone seems to have a different way of getting your openai key involved and there are consequently many opportunities to accidentally commit secrets to repos.\n",
    "\n",
    "For exploratory environments, envars work well as a way to abstract secrets away and this meshes with openai's docs so we will begin from there.\n",
    "\n",
    "This workbook is intended to contain a bunch of tools that you can use to transform your openai api key from an envar to whatever is needed to activate whatever tool. \n",
    "\n",
    "If you produce a secrets file then **you must make sure you gitignore that file**. The precommit hooks should catch it but you should not rely on that and should explicitly exclude it from version control, this workbook won't do that for you.\n"
   ]
  },
  {
   "cell_type": "markdown",
   "metadata": {},
   "source": [
    "## Chapter 1 - Your OpenAI API key\n",
    "\n",
    "The OpenAI libs can find creds in a number of ways but the most basic - the 'cash' analog - is an envar. Envars have a lot of advantages and are well used in deployment pipelines.\n",
    "\n",
    "Developing against those libs in a notebook using a personal key is best done in a way that can be ported over to deploymen\n",
    "\n",
    "For historic reasons the starting point is to create a yaml file called `openai.yaml` with the contents:\n",
    "\n",
    "```openai-key: YOUR-OPEN-AI-API_KEY-HERE```\n",
    "\n",
    "This file is already gitignored. The oldest workbooks in here assume that file an read it in first to populate the envar"
   ]
  },
  {
   "cell_type": "code",
   "execution_count": 2,
   "metadata": {},
   "outputs": [],
   "source": [
    "import yaml\n",
    "import os\n",
    "\n",
    "# Set up your OpenAI API key\n",
    "with open('openai.yaml', 'r') as f:\n",
    "    config = yaml.safe_load(f)\n",
    "\n",
    "os.environ['OPENAI_API_KEY'] = config['openai_key']"
   ]
  },
  {
   "cell_type": "markdown",
   "metadata": {},
   "source": [
    "## Chapter 2 - Autogen\n",
    "\n",
    "Don't forget to clear the outputs before checking in to git!"
   ]
  },
  {
   "cell_type": "code",
   "execution_count": 13,
   "metadata": {},
   "outputs": [],
   "source": [
    "import autogen\n",
    "import json\n",
    "\n",
    "# we need to write a config file for OpenAI that looks like\n",
    "# [{\"model\": \"gpt-4\", \"api_key\": \"your key here\"}]\n",
    "\n",
    "oai_config = [{\"model\": \"gpt-4\", \"api_key\": os.environ['OPENAI_API_KEY']}]\n",
    "\n",
    "with open('OAI_CONFIG_LIST', 'w') as fp:\n",
    "    json.dump(oai_config, fp)\n",
    "\n",
    "config_list_gpt4 = autogen.config_list_from_json(\n",
    "    \"OAI_CONFIG_LIST\",\n",
    "    filter_dict={\n",
    "        \"model\": [\"gpt-4\", \"gpt4\", \"gpt-4-32k\", \"gpt-4-32k-0314\", \"gpt-4-32k-v0314\"],\n",
    "    # filter_dict={\n",
    "    #     \"model\": [\"gpt-3.5-turbo\"],\n",
    "    },\n",
    ")\n",
    "\n",
    "gpt4_config = {\n",
    "    \"seed\": 1337,  # change the seed for different trials\n",
    "    \"temperature\": 0,\n",
    "    \"config_list\": config_list_gpt4,\n",
    "}\n"
   ]
  },
  {
   "cell_type": "code",
   "execution_count": null,
   "metadata": {},
   "outputs": [],
   "source": []
  }
 ],
 "metadata": {
  "kernelspec": {
   "display_name": ".venv",
   "language": "python",
   "name": "python3"
  },
  "language_info": {
   "codemirror_mode": {
    "name": "ipython",
    "version": 3
   },
   "file_extension": ".py",
   "mimetype": "text/x-python",
   "name": "python",
   "nbconvert_exporter": "python",
   "pygments_lexer": "ipython3",
   "version": "3.12.2"
  }
 },
 "nbformat": 4,
 "nbformat_minor": 2
}
